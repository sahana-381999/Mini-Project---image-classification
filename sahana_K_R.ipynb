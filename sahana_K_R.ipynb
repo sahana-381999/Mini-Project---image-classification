{
  "nbformat": 4,
  "nbformat_minor": 0,
  "metadata": {
    "colab": {
      "name": "sahana K R.ipynb",
      "provenance": [],
      "collapsed_sections": []
    },
    "kernelspec": {
      "name": "python3",
      "display_name": "Python 3"
    }
  },
  "cells": [
    {
      "cell_type": "code",
      "metadata": {
        "id": "JzqTP6Pz84BM",
        "colab_type": "code",
        "colab": {}
      },
      "source": [
        "import os\n",
        "import numpy as np\n",
        "import cv2\n",
        "import matplotlib.pyplot as plt\n",
        "import pickle\n",
        "import random\n",
        "from sklearn.model_selection import train_test_split\n",
        "from sklearn.svm import SVC\n",
        "\n",
        "\n",
        "dir='/content/drive/My Drive/pets dataset'\n",
        "categories=['cats','cheetah']\n",
        "\n",
        "data=[]\n",
        "\n",
        "\n",
        "for category in categories:\n",
        "    path=os.path.join(dir,category)\n",
        "    label=categories.index(category)\n",
        "    \n",
        "    for img in os.listdir(path):\n",
        "        imgpath=os.path.join(path,img)\n",
        "        nat_img=cv2.imread(imgpath,0)\n",
        "        try:\n",
        "            nat_img=cv2.resize(nat_img,(50,50))\n",
        "            image=np.array(nat_img).flatten()\n",
        "\n",
        "            data.append([image,label])\n",
        "        except Exception as e:\n",
        "            pass\n",
        "\n"
      ],
      "execution_count": 3,
      "outputs": []
    },
    {
      "cell_type": "code",
      "metadata": {
        "id": "nXmKhfYRKJpw",
        "colab_type": "code",
        "colab": {
          "base_uri": "https://localhost:8080/",
          "height": 302
        },
        "outputId": "f0573fc3-feaf-40a1-e4a3-eebe4b0f5d79"
      },
      "source": [
        "pick_in=open('data1.pickle','wb')\n",
        "pickle.dump(data,pick_in)\n",
        "pick_in.close()\n",
        "\n",
        "pick_in=open('data1.pickle','rb')\n",
        "data=pickle.load(pick_in)\n",
        "pick_in.close()\n",
        "\n",
        "random.shuffle(data)\n",
        "features=[]\n",
        "labels=[]\n",
        "\n",
        "for feature,label in data:\n",
        "    features.append(feature)\n",
        "    labels.append(label)\n",
        "    \n",
        "xtrain,xtest,ytrain,ytest=train_test_split(features,labels,random_state=0)\n",
        "\n",
        "model=SVC(C=1,kernel='poly',gamma='auto')\n",
        "model.fit(xtrain,ytrain)\n",
        "\n",
        "prediction=model.predict(xtest)\n",
        "accuracy=model.score(xtest,ytest)\n",
        "categories=['cats','cheetah']\n",
        "\n",
        "print('Accuracy:',accuracy)\n",
        "print('Prediction:',categories[prediction[0]])\n",
        "\n",
        "mynat=xtest[0].reshape(50,50)\n",
        "plt.imshow(mynat,cmap='gray')\n",
        "plt.show()"
      ],
      "execution_count": 9,
      "outputs": [
        {
          "output_type": "stream",
          "text": [
            "Accuracy: 0.8076923076923077\n",
            "Prediction: cheetah\n"
          ],
          "name": "stdout"
        },
        {
          "output_type": "display_data",
          "data": {
            "image/png": "[encoded data removed]",
            "text/plain": [
              "<Figure size 432x288 with 1 Axes>"
            ]
          },
          "metadata": {
            "tags": [],
            "needs_background": "light"
          }
        }
      ]
    },
    {
      "cell_type": "code",
      "metadata": {
        "id": "vvWAqUvmRvex",
        "colab_type": "code",
        "colab": {}
      },
      "source": [
        ""
      ],
      "execution_count": 4,
      "outputs": []
    }
  ]
}